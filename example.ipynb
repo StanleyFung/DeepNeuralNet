{
 "cells": [
  {
   "cell_type": "code",
   "execution_count": 1,
   "metadata": {},
   "outputs": [],
   "source": [
    "import numpy as np\n",
    "import pandas as pd\n",
    "from deepneuralnet import *\n",
    "import deepneuralnet_train as dnntrain"
   ]
  },
  {
   "cell_type": "code",
   "execution_count": 2,
   "metadata": {},
   "outputs": [
    {
     "name": "stdout",
     "output_type": "stream",
     "text": [
      "{'layer_dims': [10, 2], 'keep_prob': 0.8, 'learning_rate': 0.01, 'num_epochs': 1000, 'minibatch_size': 64, 'momentum': 0.95}\n"
     ]
    }
   ],
   "source": [
    "# Set up hyper parameters \n",
    "classes = 2\n",
    "layer_dims = [10, classes] \n",
    "learning_rate = 0.01\n",
    "keep_prob = 0.8\n",
    "num_epochs = 1000\n",
    "minibatch_size = 64\n",
    "print_summary = False\n",
    "isBinary = classes == 2 \n",
    "hyperparams = DNN.create_hyperparameter_bundle(layer_dims, learning_rate, num_epochs, keep_prob, minibatch_size)\n",
    "print(hyperparams)"
   ]
  },
  {
   "cell_type": "code",
   "execution_count": 3,
   "metadata": {},
   "outputs": [
    {
     "name": "stdout",
     "output_type": "stream",
     "text": [
      "2\n"
     ]
    }
   ],
   "source": [
    "# Generate data\n",
    "m = 1000\n",
    "n_x = 100\n",
    "label = 'Survived'\n",
    "x_data = np.random.rand(m, n_x).astype('float32')\n",
    "y_test = None\n",
    "\n",
    "if isBinary:\n",
    "    y_test = np.random.randint(2, size=(1, m)).astype('float32')[0]\n",
    "else:\n",
    "    y_test = np.random.randint(classes, size=(1, m)).astype('float32')[0]\n",
    "\n",
    "df = pd.DataFrame(x_data)\n",
    "df[label] = y_test\n",
    "classification = len(set(y_test))\n",
    "print(classification)"
   ]
  },
  {
   "cell_type": "code",
   "execution_count": 4,
   "metadata": {
    "scrolled": true
   },
   "outputs": [
    {
     "name": "stdout",
     "output_type": "stream",
     "text": [
      "train_x.shape: (700, 100)\n",
      "train_y.shape: (700, 2)\n",
      "dev_x.shape: (300, 100)\n",
      "dev_y.shape: (300, 2)\n",
      "Binary classification neural network with hyperparameters:\n",
      "layer_dims: [10, 2] dropoutKeepProb: 0.8 learning_rate: 0.01 num_epochs: 1000 minibatch_size: 64\n",
      "Training underway...\n",
      "Cost after epoch 0: 0.794770\n",
      "Cost after epoch 20: 0.675276\n",
      "Cost after epoch 40: 0.607451\n",
      "Cost after epoch 60: 0.578796\n",
      "Cost after epoch 80: 0.595791\n",
      "Cost after epoch 100: 0.567641\n",
      "Cost after epoch 120: 0.561634\n",
      "Cost after epoch 140: 0.546696\n",
      "Cost after epoch 160: 0.577563\n",
      "Cost after epoch 180: 0.543302\n",
      "Cost after epoch 200: 0.544283\n",
      "Cost after epoch 220: 0.529673\n",
      "Cost after epoch 240: 0.555233\n",
      "Cost after epoch 260: 0.528762\n",
      "Cost after epoch 280: 0.544545\n",
      "Cost after epoch 300: 0.548325\n",
      "Cost after epoch 320: 0.538354\n",
      "Cost after epoch 340: 0.552950\n",
      "Cost after epoch 360: 0.522694\n",
      "Cost after epoch 380: 0.536613\n",
      "Cost after epoch 400: 0.538785\n",
      "Cost after epoch 420: 0.536233\n",
      "Cost after epoch 440: 0.563168\n",
      "Cost after epoch 460: 0.531392\n",
      "Cost after epoch 480: 0.539241\n",
      "Cost after epoch 500: 0.543493\n",
      "Cost after epoch 520: 0.521749\n",
      "Cost after epoch 540: 0.528109\n",
      "Cost after epoch 560: 0.548498\n",
      "Cost after epoch 580: 0.547952\n",
      "Cost after epoch 600: 0.531528\n",
      "Cost after epoch 620: 0.523590\n",
      "Cost after epoch 640: 0.530725\n",
      "Cost after epoch 660: 0.539079\n",
      "Cost after epoch 680: 0.543302\n",
      "Cost after epoch 700: 0.539062\n",
      "Cost after epoch 720: 0.534411\n",
      "Cost after epoch 740: 0.541311\n",
      "Cost after epoch 760: 0.530975\n",
      "Cost after epoch 780: 0.536964\n",
      "Cost after epoch 800: 0.541282\n",
      "Cost after epoch 820: 0.546603\n",
      "Cost after epoch 840: 0.535258\n",
      "Cost after epoch 860: 0.534771\n",
      "Cost after epoch 880: 0.531138\n",
      "Cost after epoch 900: 0.543344\n",
      "Cost after epoch 920: 0.542268\n",
      "Cost after epoch 940: 0.534018\n",
      "Cost after epoch 960: 0.533477\n",
      "Cost after epoch 980: 0.535159\n"
     ]
    },
    {
     "data": {
      "image/png": "[encoded data removed]",
      "text/plain": [
       "<matplotlib.figure.Figure at 0x11d1fffd0>"
      ]
     },
     "metadata": {},
     "output_type": "display_data"
    },
    {
     "name": "stdout",
     "output_type": "stream",
     "text": [
      "train_accuracy_percent : 68.4285700321\n",
      "test_accuracy_percent : 54.6666681767\n",
      "precision_percent : 54.6666666667\n",
      "recall_percent : 54.6666666667\n",
      "f1score : 54.6666666667\n",
      "Done training!\n",
      "\n"
     ]
    }
   ],
   "source": [
    "# Example of using dnn.train_with_hyperparameter_bundle\n",
    "nn = DNN(hyperparams)\n",
    "model = nn.split_data_and_train(df, label, split_percent=0.7)\n",
    "parameters = model[DNN.KEY_PARAMETERS]"
   ]
  },
  {
   "cell_type": "code",
   "execution_count": 5,
   "metadata": {},
   "outputs": [],
   "source": [
    "predictions = DNN.predict(x_data, parameters)"
   ]
  },
  {
   "cell_type": "code",
   "execution_count": null,
   "metadata": {
    "collapsed": true
   },
   "outputs": [],
   "source": []
  }
 ],
 "metadata": {
  "kernelspec": {
   "display_name": "Python 3",
   "language": "python",
   "name": "python3"
  },
  "language_info": {
   "codemirror_mode": {
    "name": "ipython",
    "version": 3
   },
   "file_extension": ".py",
   "mimetype": "text/x-python",
   "name": "python",
   "nbconvert_exporter": "python",
   "pygments_lexer": "ipython3",
   "version": "3.6.1"
  }
 },
 "nbformat": 4,
 "nbformat_minor": 2
}
