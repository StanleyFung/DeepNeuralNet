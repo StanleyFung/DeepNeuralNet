{
 "cells": [
  {
   "cell_type": "code",
   "execution_count": 1,
   "metadata": {},
   "outputs": [],
   "source": [
    "import numpy as np\n",
    "import pandas as pd\n",
    "from deepneuralnet import *\n",
    "import deepneuralnet_train as dnntrain"
   ]
  },
  {
   "cell_type": "code",
   "execution_count": 2,
   "metadata": {},
   "outputs": [
    {
     "name": "stdout",
     "output_type": "stream",
     "text": [
      "{'layer_dims': [10, 2], 'keep_prob': 0.8, 'learning_rate': 0.01, 'num_epochs': 200, 'minibatch_size': 64, 'momentum': 0.97, 'maxnorm_clip': 3}\n"
     ]
    }
   ],
   "source": [
    "# Set up hyper parameters \n",
    "classes = 2\n",
    "layer_dims = [10, classes] \n",
    "learning_rate = 0.01\n",
    "keep_prob = 0.8\n",
    "num_epochs = 200\n",
    "minibatch_size = 64\n",
    "momentum = 0.97\n",
    "maxnorm_clip = 3\n",
    "print_summary = False\n",
    "isBinary = classes == 2 \n",
    "hyperparams = DNN.create_hyperparameter_bundle(layer_dims, learning_rate, num_epochs, keep_prob, minibatch_size, momentum, maxnorm_clip)\n",
    "print(hyperparams)"
   ]
  },
  {
   "cell_type": "code",
   "execution_count": 3,
   "metadata": {},
   "outputs": [
    {
     "name": "stdout",
     "output_type": "stream",
     "text": [
      "2\n"
     ]
    }
   ],
   "source": [
    "# Generate data\n",
    "m = 1000\n",
    "n_x = 100\n",
    "label = 'Survived'\n",
    "x_data = np.random.rand(m, n_x).astype('float32')\n",
    "y_test = None\n",
    "\n",
    "if isBinary:\n",
    "    y_test = np.random.randint(2, size=(1, m)).astype('float32')[0]\n",
    "else:\n",
    "    y_test = np.random.randint(classes, size=(1, m)).astype('float32')[0]\n",
    "\n",
    "df = pd.DataFrame(x_data)\n",
    "df[label] = y_test\n",
    "classification = len(set(y_test))\n",
    "print(classification)"
   ]
  },
  {
   "cell_type": "code",
   "execution_count": 4,
   "metadata": {
    "scrolled": true
   },
   "outputs": [
    {
     "name": "stdout",
     "output_type": "stream",
     "text": [
      "train_x.shape: (700, 100)\n",
      "train_y.shape: (700, 2)\n",
      "dev_x.shape: (300, 100)\n",
      "dev_y.shape: (300, 2)\n",
      "Binary classification neural network with hyperparameters:\n",
      "layer_dims: [10, 2] dropoutKeepProb: 0.8 learning_rate: 0.01 num_epochs: 200 minibatch_size: 64\n",
      "Training underway...\n",
      "Cost after epoch 0: 0.782368\n",
      "Cost after epoch 20: 0.697814\n",
      "Cost after epoch 40: 0.640681\n",
      "Cost after epoch 60: 0.616386\n",
      "Cost after epoch 80: 0.587868\n",
      "Cost after epoch 100: 0.571494\n",
      "Cost after epoch 120: 0.584739\n",
      "Cost after epoch 140: 0.584256\n",
      "Cost after epoch 160: 0.582275\n",
      "Cost after epoch 180: 0.594449\n",
      "Done Training!\n",
      "Saving model at ./saved_model_1/dnn\n"
     ]
    },
    {
     "data": {
      "image/png": "[encoded data removed]",
      "text/plain": [
       "<matplotlib.figure.Figure at 0x119556978>"
      ]
     },
     "metadata": {},
     "output_type": "display_data"
    },
    {
     "name": "stdout",
     "output_type": "stream",
     "text": [
      "train_accuracy_percent : 82.4285686016\n",
      "test_accuracy_percent : 48.6666679382\n",
      "precision_percent : 48.6666666667\n",
      "recall_percent : 48.6666666667\n",
      "f1score : 48.6666666667\n",
      "\n"
     ]
    }
   ],
   "source": [
    "# Example of using dnn.train_with_hyperparameter_bundle\n",
    "nn = DNN(hyperparams)\n",
    "model = nn.split_data_and_train(df, label, split_percent=0.7)\n",
    "parameters = model[DNN.KEY_PARAMETERS]"
   ]
  },
  {
   "cell_type": "code",
   "execution_count": 5,
   "metadata": {},
   "outputs": [
    {
     "name": "stdout",
     "output_type": "stream",
     "text": [
      "(1000,)\n"
     ]
    }
   ],
   "source": [
    "predictions = nn.predict(x_data, parameters)\n",
    "print(predictions.shape)"
   ]
  },
  {
   "cell_type": "code",
   "execution_count": null,
   "metadata": {
    "collapsed": true
   },
   "outputs": [],
   "source": []
  }
 ],
 "metadata": {
  "kernelspec": {
   "display_name": "Python 3",
   "language": "python",
   "name": "python3"
  },
  "language_info": {
   "codemirror_mode": {
    "name": "ipython",
    "version": 3
   },
   "file_extension": ".py",
   "mimetype": "text/x-python",
   "name": "python",
   "nbconvert_exporter": "python",
   "pygments_lexer": "ipython3",
   "version": "3.6.1"
  }
 },
 "nbformat": 4,
 "nbformat_minor": 2
}
