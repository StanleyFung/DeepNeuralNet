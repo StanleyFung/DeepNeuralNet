{
 "cells": [
  {
   "cell_type": "code",
   "execution_count": 1,
   "metadata": {},
   "outputs": [],
   "source": [
    "import numpy as np\n",
    "import pandas as pd\n",
    "from deepneuralnet import *\n",
    "import deepneuralnet_train as dnntrain"
   ]
  },
  {
   "cell_type": "code",
   "execution_count": 2,
   "metadata": {},
   "outputs": [
    {
     "name": "stdout",
     "output_type": "stream",
     "text": [
      "{'KEY_LAYER_DIMS': [10, 2], 'KEY_DROPOUT_KEEP_PROB': 0.8, 'KEY_LEARNING_RATE': 0.001, 'KEY_MINI_BATCH_SIZE': 64, 'KEY_ADAM_BETA1': 0.97, 'KEY_MAX_NORM_CLIP': 3}\n"
     ]
    }
   ],
   "source": [
    "# Set up hyper parameters \n",
    "classes = 2\n",
    "layer_dims = [10, classes] \n",
    "learning_rate = 0.001\n",
    "keep_prob = 0.8\n",
    "minibatch_size = 64\n",
    "momentum = 0.97\n",
    "maxnorm_clip = 3\n",
    "print_summary = False\n",
    "isBinary = classes == 2 \n",
    "hyperparams = DNN.create_hyperparameter_bundle(layer_dims, learning_rate, keep_prob, minibatch_size, momentum, maxnorm_clip)\n",
    "print(hyperparams)"
   ]
  },
  {
   "cell_type": "code",
   "execution_count": 3,
   "metadata": {},
   "outputs": [
    {
     "name": "stdout",
     "output_type": "stream",
     "text": [
      "2\n"
     ]
    }
   ],
   "source": [
    "# Generate data\n",
    "m = 1000\n",
    "n_x = 100\n",
    "label = 'Survived'\n",
    "x_data = np.random.rand(m, n_x).astype('float32')\n",
    "y_test = None\n",
    "\n",
    "if isBinary:\n",
    "    y_test = np.random.randint(2, size=(1, m)).astype('float32')[0]\n",
    "else:\n",
    "    y_test = np.random.randint(classes, size=(1, m)).astype('float32')[0]\n",
    "\n",
    "df = pd.DataFrame(x_data)\n",
    "df[label] = y_test\n",
    "classification = len(set(y_test))\n",
    "print(classification)"
   ]
  },
  {
   "cell_type": "code",
   "execution_count": 4,
   "metadata": {
    "scrolled": true
   },
   "outputs": [
    {
     "name": "stdout",
     "output_type": "stream",
     "text": [
      "Setting hyperparameters...\n",
      "train_x.shape: (700, 100)\n",
      "train_y.shape: (700, 2)\n",
      "dev_x.shape: (300, 100)\n",
      "dev_y.shape: (300, 2)\n",
      "Configuring graph...\n",
      "Model ID: 1\n",
      "Binary classification neural network with hyperparameters:\n",
      "layer_dims: [10, 2] dropoutKeepProb: 0.800000011920929 learning_rate: 0.0010000000474974513 num_epochs: 250\n",
      "minibatch_size: 64 momentum: 0.9700000286102295 maxnormclip: 3.0\n",
      "Saving metagraph to ./saved_model_1/dnn\n",
      "Training underway...\n",
      "Cost after epoch 0: 0.800315\n",
      "Cost after epoch 20: 0.752928\n",
      "Cost after epoch 40: 0.727470\n",
      "Cost after epoch 60: 0.691748\n",
      "Cost after epoch 80: 0.645458\n",
      "Cost after epoch 100: 0.613201\n",
      "Cost after epoch 120: 0.593669\n",
      "Cost after epoch 140: 0.577468\n",
      "Cost after epoch 160: 0.574992\n",
      "Cost after epoch 180: 0.558355\n",
      "Cost after epoch 200: 0.548577\n",
      "epoch to save 200\n",
      "Saving checkpoint at epoch: 200\n",
      "Cost after epoch 220: 0.542209\n",
      "Cost after epoch 240: 0.529629\n",
      "epoch to save 250\n",
      "Saving checkpoint at epoch: 250\n",
      "Done Training!\n"
     ]
    },
    {
     "data": {
      "image/png": "[encoded data removed]",
      "text/plain": [
       "<matplotlib.figure.Figure at 0x1228c1be0>"
      ]
     },
     "metadata": {},
     "output_type": "display_data"
    },
    {
     "name": "stdout",
     "output_type": "stream",
     "text": [
      "train_accuracy_percent : 86.7142856121\n",
      "test_accuracy_percent : 49.6666669846\n",
      "precision_percent : 49.6666666667\n",
      "recall_percent : 49.6666666667\n",
      "f1score : 49.6666666667\n",
      "\n"
     ]
    }
   ],
   "source": [
    "nn = DNN()\n",
    "nn.set_hyperparameters(hyperparams)\n",
    "(train_x, train_y, dev_x, dev_y) = DNN.split_data(df, label, 0.7)\n",
    "nn.configure_graph(train_x, train_y)\n",
    "results = nn.train(train_x, train_y, dev_x, dev_y, num_epochs = 250, print_summary = True, checkpoint_interval = 200)"
   ]
  },
  {
   "cell_type": "code",
   "execution_count": 5,
   "metadata": {},
   "outputs": [
    {
     "name": "stdout",
     "output_type": "stream",
     "text": [
      "(1000,)\n"
     ]
    }
   ],
   "source": [
    "predictions = nn.predict(x_data)\n",
    "print(predictions.shape)"
   ]
  },
  {
   "cell_type": "code",
   "execution_count": 6,
   "metadata": {},
   "outputs": [
    {
     "name": "stdout",
     "output_type": "stream",
     "text": [
      "INFO:tensorflow:Restoring parameters from ./saved_model_1/dnn-200\n"
     ]
    }
   ],
   "source": [
    "dnn2 = DNN()\n",
    "dnn2.restore_saved_model(1, 200)"
   ]
  },
  {
   "cell_type": "code",
   "execution_count": 7,
   "metadata": {},
   "outputs": [
    {
     "name": "stdout",
     "output_type": "stream",
     "text": [
      "Model ID: 1\n",
      "Binary classification neural network with hyperparameters:\n",
      "layer_dims: [Dimension(10), Dimension(2)] dropoutKeepProb: 0.800000011920929 learning_rate: 0.0010000000474974513 num_epochs: 250\n",
      "minibatch_size: 64 momentum: 0.9700000286102295 maxnormclip: 3.0\n",
      "Saving metagraph to ./saved_model_1/dnn\n",
      "Resuming training from previous epoch of 200\n",
      "Training underway...\n",
      "Cost after epoch 0: 0.802095\n",
      "Cost after epoch 20: 0.748176\n",
      "Cost after epoch 40: 0.726832\n",
      "Cost after epoch 60: 0.690449\n",
      "Cost after epoch 80: 0.654054\n",
      "Cost after epoch 100: 0.621250\n",
      "Cost after epoch 120: 0.602318\n",
      "Cost after epoch 140: 0.584969\n",
      "Cost after epoch 160: 0.571484\n",
      "Cost after epoch 180: 0.569980\n",
      "Cost after epoch 200: 0.550183\n",
      "epoch to save 400\n",
      "Saving checkpoint at epoch: 400\n",
      "Cost after epoch 220: 0.555344\n",
      "Cost after epoch 240: 0.532487\n",
      "epoch to save 450\n",
      "Saving checkpoint at epoch: 450\n",
      "Done Training!\n"
     ]
    },
    {
     "data": {
      "image/png": "[encoded data removed]",
      "text/plain": [
       "<matplotlib.figure.Figure at 0x1143e7588>"
      ]
     },
     "metadata": {},
     "output_type": "display_data"
    },
    {
     "name": "stdout",
     "output_type": "stream",
     "text": [
      "train_accuracy_percent : 84.4285726547\n",
      "test_accuracy_percent : 44.9999988079\n",
      "precision_percent : 45.0\n",
      "recall_percent : 45.0\n",
      "f1score : 45.0\n",
      "\n"
     ]
    }
   ],
   "source": [
    "results2 = dnn2.train(train_x, train_y, dev_x, dev_y, num_epochs = 250, print_summary = True, checkpoint_interval = 200)"
   ]
  },
  {
   "cell_type": "code",
   "execution_count": null,
   "metadata": {
    "collapsed": true
   },
   "outputs": [],
   "source": []
  }
 ],
 "metadata": {
  "kernelspec": {
   "display_name": "Python 3",
   "language": "python",
   "name": "python3"
  },
  "language_info": {
   "codemirror_mode": {
    "name": "ipython",
    "version": 3
   },
   "file_extension": ".py",
   "mimetype": "text/x-python",
   "name": "python",
   "nbconvert_exporter": "python",
   "pygments_lexer": "ipython3",
   "version": "3.6.1"
  }
 },
 "nbformat": 4,
 "nbformat_minor": 2
}
