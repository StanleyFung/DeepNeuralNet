{
 "cells": [
  {
   "cell_type": "code",
   "execution_count": 1,
   "metadata": {},
   "outputs": [
    {
     "ename": "SyntaxError",
     "evalue": "invalid syntax (DNN_model.py, line 439)",
     "output_type": "error",
     "traceback": [
      "\u001b[0;36m  File \u001b[0;32m\"DNN_model.py\"\u001b[0;36m, line \u001b[0;32m439\u001b[0m\n\u001b[0;31m    KEY_BEST_MODEL = KEY_BEST_MODEL\u001b[0m\n\u001b[0m                   ^\u001b[0m\n\u001b[0;31mSyntaxError\u001b[0m\u001b[0;31m:\u001b[0m invalid syntax\n"
     ]
    }
   ],
   "source": [
    "import numpy as np\n",
    "import pandas as pd\n",
    "import DNN_model as dnn "
   ]
  },
  {
   "cell_type": "code",
   "execution_count": null,
   "metadata": {},
   "outputs": [],
   "source": [
    "# Set up hyper parameters \n",
    "c = 1\n",
    "layer_dims = [10, c] \n",
    "learning_rate = 0.0005\n",
    "keep_prob = 1.0\n",
    "num_epochs = 300\n",
    "minibatch_size = 64\n",
    "print_summary = False\n",
    "isBinary = c <= 2 \n",
    "hyperparams = dnn.create_hyperparameter_bundle(layer_dims, learning_rate, num_epochs, keep_prob, minibatch_size)"
   ]
  },
  {
   "cell_type": "code",
   "execution_count": null,
   "metadata": {},
   "outputs": [],
   "source": [
    "# Generate data\n",
    "m = 1000\n",
    "n_x = 10\n",
    "label = 'Survived'\n",
    "x_data = np.random.rand(m, n_x)\n",
    "y_test = None\n",
    "\n",
    "if isBinary:\n",
    "    y_test = np.random.randint(2, size=(1, m))[0]\n",
    "else:\n",
    "    y_test = np.random.randint(c, size=(1, m))[0]\n",
    "\n",
    "df = pd.DataFrame(x_data)\n",
    "df[label] = y_test"
   ]
  },
  {
   "cell_type": "code",
   "execution_count": null,
   "metadata": {},
   "outputs": [],
   "source": [
    "# Example of using dnn.train_with_hyperparameter_bundle\n",
    "train_orig = df.sample(frac=0.70)\n",
    "test_orig = df.drop(train_orig.index) \n",
    "\n",
    "(x_train, y_train) = dnn.format_dataframe_for_training(train_orig, label, c)\n",
    "(x_test, y_test) = dnn.format_dataframe_for_training(test_orig, label, c)\n",
    "\n",
    "model = dnn.train_with_hyperparameter_bundle(x_train, y_train, x_test, y_test, hyperparams, print_summary=print_summary)\n",
    "parameters = model[dnn.KEY_PARAMETERS]\n",
    "prediction = dnn.predict(x_train, parameters, isBinary)"
   ]
  },
  {
   "cell_type": "code",
   "execution_count": null,
   "metadata": {
    "scrolled": true
   },
   "outputs": [],
   "source": [
    "# Example of using kfold to determine best hyper parameters\n",
    "hyperparams1 = dnn.create_hyperparameter_bundle(layer_dims = [c], learning_rate = 0.01, num_epochs = 500, keep_prob = 1.0)\n",
    "hyperparams2 = dnn.create_hyperparameter_bundle(layer_dims = [5,c], learning_rate = 0.001, num_epochs = 500, keep_prob = 0.75)\n",
    "\n",
    "result1 =  dnn.kfold(df, label, hyperparams1, k = 3.0, print_summary = False)\n",
    "avg_accuracy1 = result1[dnn.KEY_AVERAGE_ACCURACY]\n",
    "result2 = dnn.kfold(df, label, hyperparams2, k = 3.0, print_summary = False)\n",
    "avg_accuracy2 = result2[dnn.KEY_AVERAGE_ACCURACY]\n",
    "\n",
    "print \"avg_accuracy1 \" + str(avg_accuracy1)\n",
    "print \"avg_accuracy2 \" + str(avg_accuracy2)"
   ]
  }
 ],
 "metadata": {
  "kernelspec": {
   "display_name": "Python 2",
   "language": "python",
   "name": "python2"
  },
  "language_info": {
   "codemirror_mode": {
    "name": "ipython",
    "version": 2
   },
   "file_extension": ".py",
   "mimetype": "text/x-python",
   "name": "python",
   "nbconvert_exporter": "python",
   "pygments_lexer": "ipython2",
   "version": "2.7.13"
  }
 },
 "nbformat": 4,
 "nbformat_minor": 2
}
