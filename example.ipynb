{
 "cells": [
  {
   "cell_type": "code",
   "execution_count": 1,
   "metadata": {},
   "outputs": [],
   "source": [
    "import numpy as np\n",
    "import pandas as pd\n",
    "from deepneuralnet import *\n",
    "import deepneuralnet_train as dnntrain"
   ]
  },
  {
   "cell_type": "code",
   "execution_count": 2,
   "metadata": {},
   "outputs": [
    {
     "name": "stdout",
     "output_type": "stream",
     "text": [
      "{'layer_dims': [7, 1], 'keep_prob': 1.0, 'learning_rate': 0.001, 'num_epochs': 100, 'minibatch_size': 64}\n"
     ]
    }
   ],
   "source": [
    "# Set up hyper parameters \n",
    "c = 1\n",
    "layer_dims = [7, c] \n",
    "learning_rate = 0.001\n",
    "keep_prob = 1.0\n",
    "num_epochs = 100\n",
    "minibatch_size = 64\n",
    "print_summary = False\n",
    "isBinary = c <= 2 \n",
    "hyperparams = DNN.create_hyperparameter_bundle(layer_dims, learning_rate, num_epochs, keep_prob, minibatch_size)\n",
    "print(hyperparams)"
   ]
  },
  {
   "cell_type": "code",
   "execution_count": 3,
   "metadata": {},
   "outputs": [
    {
     "name": "stdout",
     "output_type": "stream",
     "text": [
      "2\n"
     ]
    }
   ],
   "source": [
    "# Generate data\n",
    "m = 333\n",
    "n_x = 100\n",
    "label = 'Survived'\n",
    "x_data = np.random.rand(m, n_x)\n",
    "y_test = None\n",
    "\n",
    "if isBinary:\n",
    "    y_test = np.random.randint(2, size=(1, m))[0]\n",
    "else:\n",
    "    y_test = np.random.randint(c, size=(1, m))[0]\n",
    "\n",
    "df = pd.DataFrame(x_data)\n",
    "df[label] = y_test\n",
    "df = df.astype('float32')\n",
    "classification = len(set(y_test))\n",
    "print(classification)"
   ]
  },
  {
   "cell_type": "code",
   "execution_count": 4,
   "metadata": {},
   "outputs": [
    {
     "name": "stdout",
     "output_type": "stream",
     "text": [
      "train_x.shape: (233, 100)\n",
      "train_y.shape: (233, 1)\n",
      "dev_x.shape: (100, 100)\n",
      "dev_y.shape: (100, 1)\n",
      "Binary classification neural network with hyperparameters:\n",
      "layer_dims: [7, 1] dropoutKeepProb: 1.0 learning_rate: 0.001 num_epochs: 100 minibatch_size: 64\n",
      "Init Params\n",
      "W shape: (100, 7)\n",
      "b shape: (1, 7)\n",
      "W shape: (7, 1)\n",
      "b shape: (1, 1)\n",
      "forwardProp: X.shape -- (?, 100)\n",
      "forwardProp: Z.shape -- (?, 7)\n",
      "forwardProp: Z.shape -- (?, 1)\n",
      "forwardProp: X.shape -- (?, 100)\n",
      "forwardProp: Z.shape -- (?, 7)\n",
      "forwardProp: Z.shape -- (?, 1)\n",
      "(?, 1)\n",
      "(?, 1)\n",
      "Training underway...\n",
      "Cost after epoch 0: 1.156883\n",
      "Cost after epoch 20: 0.832120\n",
      "Cost after epoch 40: 0.651852\n",
      "Cost after epoch 60: 0.507797\n",
      "Cost after epoch 80: 0.422751\n",
      "prediction_values_test.shape: (100,)\n",
      "Y_test.shape: (100,)\n"
     ]
    },
    {
     "data": {
      "image/png": "[encoded data removed]",
      "text/plain": [
       "<matplotlib.figure.Figure at 0x124435940>"
      ]
     },
     "metadata": {},
     "output_type": "display_data"
    },
    {
     "name": "stdout",
     "output_type": "stream",
     "text": [
      "train_accuracy : 0.497854\n",
      "test_accuracy : 0.53\n",
      "precision : 0.540816326531\n",
      "recall : 0.963636363636\n",
      "f1score : 0.692810457516\n",
      "Done training!\n",
      "\n"
     ]
    }
   ],
   "source": [
    "# Example of using dnn.train_with_hyperparameter_bundle\n",
    "nn = DNN(hyperparams)\n",
    "model = nn.split_data_and_train(df, label, split_percent=0.7)\n",
    "# parameters = model[dnn.KEY_PARAMETERS]"
   ]
  },
  {
   "cell_type": "code",
   "execution_count": null,
   "metadata": {
    "collapsed": true
   },
   "outputs": [],
   "source": []
  }
 ],
 "metadata": {
  "kernelspec": {
   "display_name": "Python 3",
   "language": "python",
   "name": "python3"
  },
  "language_info": {
   "codemirror_mode": {
    "name": "ipython",
    "version": 3
   },
   "file_extension": ".py",
   "mimetype": "text/x-python",
   "name": "python",
   "nbconvert_exporter": "python",
   "pygments_lexer": "ipython3",
   "version": "3.6.1"
  }
 },
 "nbformat": 4,
 "nbformat_minor": 2
}
