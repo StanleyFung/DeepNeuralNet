{
 "cells": [
  {
   "cell_type": "code",
   "execution_count": 1,
   "metadata": {},
   "outputs": [],
   "source": [
    "import numpy as np\n",
    "import pandas as pd\n",
    "import DNN_model as dnn "
   ]
  },
  {
   "cell_type": "code",
   "execution_count": 2,
   "metadata": {},
   "outputs": [],
   "source": [
    "# Set up hyper parameters \n",
    "c = 1\n",
    "layer_dims = [10, c] \n",
    "learning_rate = 0.0005\n",
    "keep_prob = 1.0\n",
    "num_epochs = 300\n",
    "minibatch_size = 2000\n",
    "print_summary = False\n",
    "isBinary = c <= 2 \n",
    "hyperparams = dnn.create_hyperparameter_bundle(layer_dims, learning_rate, num_epochs, keep_prob, minibatch_size)"
   ]
  },
  {
   "cell_type": "code",
   "execution_count": 3,
   "metadata": {},
   "outputs": [],
   "source": [
    "# Generate data\n",
    "m = 1000\n",
    "n_x = 10\n",
    "label = 'Survived'\n",
    "x_data = np.random.rand(m, n_x)\n",
    "y_test = None\n",
    "\n",
    "if isBinary:\n",
    "    y_test = np.random.randint(2, size=(1, m))[0]\n",
    "else:\n",
    "    y_test = np.random.randint(c, size=(1, m))[0]\n",
    "\n",
    "df = pd.DataFrame(x_data)\n",
    "df[label] = y_test"
   ]
  },
  {
   "cell_type": "code",
   "execution_count": 4,
   "metadata": {},
   "outputs": [
    {
     "name": "stdout",
     "output_type": "stream",
     "text": [
      "(10, 700)\n",
      "(1, 700)\n",
      "(10, 300)\n",
      "(1, 300)\n",
      "Binary classification neural network with hyperparameters:\n",
      "layer_dims: [10, 1] keep_prob: 1.0 learning_rate: 0.0005 num_epochs: 300 minibatch_size: 2000\n",
      "Training underway...\n",
      "Cost after epoch 0: 0.701737\n"
     ]
    },
    {
     "data": {
      "image/png": "[encoded data removed]",
      "text/plain": [
       "<matplotlib.figure.Figure at 0x121121650>"
      ]
     },
     "metadata": {},
     "output_type": "display_data"
    },
    {
     "name": "stdout",
     "output_type": "stream",
     "text": [
      "train_accuracy : 0.552857\n",
      "test_accuracy : 0.486667\n",
      "precision : 0.475113122172\n",
      "recall : 0.734265734266\n",
      "f1score : 0.576923076923\n",
      "Done training!\n",
      "\n",
      "\n"
     ]
    }
   ],
   "source": [
    "# Example of using dnn.train_with_hyperparameter_bundle\n",
    "model = dnn.train_with_hyperparameter_bundle(df, label, hyperparams)\n",
    "parameters = model[dnn.KEY_PARAMETERS]"
   ]
  },
  {
   "cell_type": "code",
   "execution_count": 5,
   "metadata": {
    "scrolled": true
   },
   "outputs": [
    {
     "name": "stdout",
     "output_type": "stream",
     "text": [
      "Starting K FOLD \n",
      "Training fold 1 / 2\n",
      "Binary classification neural network with hyperparameters:\n",
      "layer_dims: [1] keep_prob: 1.0 learning_rate: 0.01 num_epochs: 500 minibatch_size: 64\n",
      "Training underway...\n",
      "Done training!\n",
      "\n",
      "\n",
      "Training fold 2 / 2\n",
      "Binary classification neural network with hyperparameters:\n",
      "layer_dims: [1] keep_prob: 1.0 learning_rate: 0.01 num_epochs: 500 minibatch_size: 64\n",
      "Training underway...\n",
      "Done training!\n",
      "\n",
      "\n",
      "Best average accuracy: 0.523000001907\n",
      "Done K FOLD\n",
      "\n",
      "\n",
      "Starting K FOLD \n",
      "Training fold 1 / 2\n",
      "Binary classification neural network with hyperparameters:\n",
      "layer_dims: [5, 1] keep_prob: 0.75 learning_rate: 0.001 num_epochs: 500 minibatch_size: 64\n",
      "Training underway...\n",
      "Done training!\n",
      "\n",
      "\n",
      "Training fold 2 / 2\n",
      "Binary classification neural network with hyperparameters:\n",
      "layer_dims: [5, 1] keep_prob: 0.75 learning_rate: 0.001 num_epochs: 500 minibatch_size: 64\n",
      "Training underway...\n",
      "Done training!\n",
      "\n",
      "\n",
      "Best average accuracy: 0.508999988437\n",
      "Done K FOLD\n",
      "\n",
      "\n",
      "avg_accuracy1 0.523000001907\n",
      "avg_accuracy2 0.508999988437\n"
     ]
    }
   ],
   "source": [
    "# Example of using kfold to determine best hyper parameters\n",
    "hyperparams1 = dnn.create_hyperparameter_bundle(layer_dims = [c], learning_rate = 0.01, num_epochs = 500, keep_prob = 1.0)\n",
    "hyperparams2 = dnn.create_hyperparameter_bundle(layer_dims = [5,c], learning_rate = 0.001, num_epochs = 500, keep_prob = 0.75)\n",
    "\n",
    "result1 =  dnn.kfold(df, label, hyperparams1, k = 2, print_summary = False)\n",
    "avg_accuracy1 = result1[dnn.KEY_AVERAGE_ACCURACY]\n",
    "result2 = dnn.kfold(df, label, hyperparams2, k = 2, print_summary = False)\n",
    "avg_accuracy2 = result2[dnn.KEY_AVERAGE_ACCURACY]\n",
    "\n",
    "print \"avg_accuracy1 \" + str(avg_accuracy1)\n",
    "print \"avg_accuracy2 \" + str(avg_accuracy2)"
   ]
  },
  {
   "cell_type": "code",
   "execution_count": 6,
   "metadata": {},
   "outputs": [],
   "source": [
    "p = result1[dnn.KEY_BEST_MODEL][dnn.KEY_PARAMETERS]"
   ]
  }
 ],
 "metadata": {
  "kernelspec": {
   "display_name": "Python 2",
   "language": "python",
   "name": "python2"
  },
  "language_info": {
   "codemirror_mode": {
    "name": "ipython",
    "version": 2
   },
   "file_extension": ".py",
   "mimetype": "text/x-python",
   "name": "python",
   "nbconvert_exporter": "python",
   "pygments_lexer": "ipython2",
   "version": "2.7.13"
  }
 },
 "nbformat": 4,
 "nbformat_minor": 2
}
