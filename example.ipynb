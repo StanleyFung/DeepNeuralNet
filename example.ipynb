{
 "cells": [
  {
   "cell_type": "code",
   "execution_count": 1,
   "metadata": {},
   "outputs": [],
   "source": [
    "import numpy as np\n",
    "import DNN_utils as dnn_utils\n",
    "import DNN_model as dnn "
   ]
  },
  {
   "cell_type": "code",
   "execution_count": 2,
   "metadata": {},
   "outputs": [],
   "source": [
    "m_train = 1000\n",
    "m_test = 200\n",
    "n_x = 1000\n",
    "x_train = np.random.rand(n_x, m_train)\n",
    "x_test = np.random.rand(n_x, m_test)\n",
    "\n",
    "# layer_dims is the number of nodes in each layer, NOT including the input layers\n",
    "# layers_dims = [25, 7, 5, 1] \n",
    "# this would be a DNN of n_X -> 25 -> 7 -> 5 -> 1\n",
    "# if number of nodes in last layer is > 1, we expect a multi class output\n",
    "layer_dims = [3, 2, 1] \n",
    "isBinary = layer_dims[-1] <= 2 \n",
    "\n",
    "if isBinary:\n",
    "    assert(layer_dims[-1] == 1)\n",
    "    y_train = np.random.randint(2, size=(1, m_train))\n",
    "    y_test = np.random.randint(2, size=(1, m_test))\n",
    "else:\n",
    "    # Multi class\n",
    "    assert(layer_dims[-1] > 1)\n",
    "    y_train = np.random.randint(layer_dims[-1], size=(1, m_train))[0]\n",
    "    y_train = dnn_utils.one_hot_matrix(y_train, layer_dims[-1], axis = 0)\n",
    "    \n",
    "    y_test = np.random.randint(layer_dims[-1], size=(1, m_test))[0]\n",
    "    y_test = dnn_utils.one_hot_matrix(y_test, layer_dims[-1], axis = 0)"
   ]
  },
  {
   "cell_type": "code",
   "execution_count": null,
   "metadata": {},
   "outputs": [],
   "source": [
    "parameters = dnn.train(x_train, y_train, x_test, y_test, layer_dims)\n",
    "prediction = dnn.predict(x_test, parameters, isBinary)\n",
    "print prediction"
   ]
  }
 ],
 "metadata": {
  "kernelspec": {
   "display_name": "Python 2",
   "language": "python",
   "name": "python2"
  },
  "language_info": {
   "codemirror_mode": {
    "name": "ipython",
    "version": 2
   },
   "file_extension": ".py",
   "mimetype": "text/x-python",
   "name": "python",
   "nbconvert_exporter": "python",
   "pygments_lexer": "ipython2",
   "version": "2.7.13"
  }
 },
 "nbformat": 4,
 "nbformat_minor": 2
}
