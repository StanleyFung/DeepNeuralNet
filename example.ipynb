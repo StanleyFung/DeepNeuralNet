{
 "cells": [
  {
   "cell_type": "code",
   "execution_count": 1,
   "metadata": {},
   "outputs": [],
   "source": [
    "import numpy as np\n",
    "import pandas as pd\n",
    "from deepneuralnet import *\n",
    "import deepneuralnet_train as dnntrain"
   ]
  },
  {
   "cell_type": "code",
   "execution_count": 2,
   "metadata": {},
   "outputs": [
    {
     "name": "stdout",
     "output_type": "stream",
     "text": [
      "{'KEY_LAYER_DIMS': [10, 2], 'KEY_LEARNING_RATE': 0.001, 'KEY_DROPOUT_KEEP_PROB': 0.8, 'KEY_MAX_NORM_CLIP': 3.0, 'KEY_ADAM_BETA1': 0.97, 'KEY_MINI_BATCH_SIZE': 64}\n"
     ]
    }
   ],
   "source": [
    "# Set up hyper parameters \n",
    "classes = 2\n",
    "layer_dims = [10, classes] \n",
    "learning_rate = 0.001\n",
    "keep_prob = 0.8\n",
    "minibatch_size = 64\n",
    "momentum = 0.97\n",
    "maxnorm_clip = 3\n",
    "print_summary = False\n",
    "isBinary = classes == 2 \n",
    "hyperparams = DNN.create_hyperparameter_bundle(layer_dims=layer_dims, \n",
    "                                               learning_rate=learning_rate, \n",
    "                                               dropout_keep_prob = keep_prob, \n",
    "                                               dropout_maxnorm_clip = maxnorm_clip, \n",
    "                                               beta1 = momentum, \n",
    "                                               minibatch_size = minibatch_size)\n",
    "print(hyperparams)"
   ]
  },
  {
   "cell_type": "code",
   "execution_count": 3,
   "metadata": {},
   "outputs": [
    {
     "name": "stdout",
     "output_type": "stream",
     "text": [
      "2\n"
     ]
    }
   ],
   "source": [
    "# Generate data\n",
    "m = 1000\n",
    "n_x = 100\n",
    "label = 'Survived'\n",
    "x_data = np.random.rand(m, n_x).astype('float32')\n",
    "y_test = None\n",
    "\n",
    "if isBinary:\n",
    "    y_test = np.random.randint(2, size=(1, m)).astype('float32')[0]\n",
    "else:\n",
    "    y_test = np.random.randint(classes, size=(1, m)).astype('float32')[0]\n",
    "\n",
    "df = pd.DataFrame(x_data)\n",
    "df[label] = y_test\n",
    "classification = len(set(y_test))\n",
    "print(classification)"
   ]
  },
  {
   "cell_type": "code",
   "execution_count": 4,
   "metadata": {
    "scrolled": true
   },
   "outputs": [
    {
     "name": "stdout",
     "output_type": "stream",
     "text": [
      "Setting hyperparameters...\n",
      "train_x.shape: (700, 100)\n",
      "train_y.shape: (700, 2)\n",
      "dev_x.shape: (300, 100)\n",
      "dev_y.shape: (300, 2)\n",
      "Configuring graph...\n",
      "Model ID: 1\n",
      "Binary classification neural network with hyperparameters:\n",
      "layer_dims: [10, 2] learning_rate: 0.0010000000474974513, dropoutKeepProb: 0.800000011920929  num_epochs: 250\n",
      "minibatch_size: 64 momentum: 0.9700000286102295 maxnormclip: 3.0\n",
      "Saving metagraph to ./saved_model_1/dnn\n",
      "Training underway...\n",
      "Cost after epoch 0: 0.834513\n",
      "Cost after epoch 20: 0.749039\n",
      "Cost after epoch 40: 0.716236\n",
      "Cost after epoch 60: 0.683700\n",
      "Cost after epoch 80: 0.655765\n",
      "Cost after epoch 100: 0.624076\n",
      "Cost after epoch 120: 0.594551\n",
      "Cost after epoch 140: 0.590823\n",
      "Cost after epoch 160: 0.572648\n",
      "Cost after epoch 180: 0.558124\n",
      "Cost after epoch 200: 0.548847\n",
      "epoch to save 200\n",
      "Saving checkpoint at epoch: 200\n",
      "Cost after epoch 220: 0.535273\n",
      "Cost after epoch 240: 0.533255\n",
      "epoch to save 250\n",
      "Saving checkpoint at epoch: 250\n",
      "Done Training!\n"
     ]
    },
    {
     "data": {
      "image/png": "[encoded data removed]",
      "text/plain": [
       "<matplotlib.figure.Figure at 0x127bd3be0>"
      ]
     },
     "metadata": {},
     "output_type": "display_data"
    },
    {
     "name": "stdout",
     "output_type": "stream",
     "text": [
      "train_accuracy_percent : 84.2857122421\n",
      "test_accuracy_percent : 54.3333351612\n",
      "precision_percent : 54.3333333333\n",
      "recall_percent : 54.3333333333\n",
      "f1score : 54.3333333333\n",
      "\n"
     ]
    }
   ],
   "source": [
    "# Typical DNN use case\n",
    "nn = DNN()\n",
    "nn.set_hyperparameters(hyperparams)\n",
    "(train_x, train_y, dev_x, dev_y) = DNN.split_data(df, label, 0.7)\n",
    "nn.configure_graph(train_x, train_y)\n",
    "results = nn.train(train_x, train_y, dev_x, dev_y, \n",
    "                   num_epochs = 250, print_summary = True, \n",
    "                   checkpoint_interval = 200)"
   ]
  },
  {
   "cell_type": "code",
   "execution_count": 5,
   "metadata": {},
   "outputs": [
    {
     "name": "stdout",
     "output_type": "stream",
     "text": [
      "(1000,)\n"
     ]
    }
   ],
   "source": [
    "# Make predictions\n",
    "predictions = nn.predict(x_data)\n",
    "print(predictions.shape)"
   ]
  },
  {
   "cell_type": "code",
   "execution_count": 6,
   "metadata": {},
   "outputs": [
    {
     "name": "stdout",
     "output_type": "stream",
     "text": [
      "INFO:tensorflow:Restoring parameters from ./saved_model_1/dnn-200\n",
      "Model ID: 1\n",
      "Binary classification neural network with hyperparameters:\n",
      "layer_dims: [Dimension(10), Dimension(2)] learning_rate: 0.0010000000474974513, dropoutKeepProb: 0.800000011920929  num_epochs: 250\n",
      "minibatch_size: 64 momentum: 0.9700000286102295 maxnormclip: 3.0\n",
      "Saving metagraph to ./saved_model_1/dnn\n",
      "Resuming training from previous epoch of 200\n",
      "Training underway...\n",
      "Cost after epoch 0: 0.810450\n",
      "Cost after epoch 20: 0.743536\n",
      "Cost after epoch 40: 0.706209\n",
      "Cost after epoch 60: 0.681064\n",
      "Cost after epoch 80: 0.649827\n",
      "Cost after epoch 100: 0.614875\n",
      "Cost after epoch 120: 0.593202\n",
      "Cost after epoch 140: 0.570282\n",
      "Cost after epoch 160: 0.561595\n",
      "Cost after epoch 180: 0.551174\n",
      "Cost after epoch 200: 0.541241\n",
      "epoch to save 400\n",
      "Saving checkpoint at epoch: 400\n",
      "Cost after epoch 220: 0.548175\n",
      "Cost after epoch 240: 0.538962\n",
      "epoch to save 450\n",
      "Saving checkpoint at epoch: 450\n",
      "Done Training!\n"
     ]
    },
    {
     "data": {
      "image/png": "[encoded data removed]",
      "text/plain": [
       "<matplotlib.figure.Figure at 0x128083fd0>"
      ]
     },
     "metadata": {},
     "output_type": "display_data"
    },
    {
     "name": "stdout",
     "output_type": "stream",
     "text": [
      "train_accuracy_percent : 85.7142865658\n",
      "test_accuracy_percent : 51.6666650772\n",
      "precision_percent : 51.6666666667\n",
      "recall_percent : 51.6666666667\n",
      "f1score : 51.6666666667\n",
      "\n",
      "[ 1.  1.  1.  1.  1.  0.  0.  1.  1.  0.  0.  0.  0.  1.  0.  1.  1.  1.\n",
      "  0.  0.  1.  0.  1.  0.  0.  1.  0.  0.  0.  1.  1.  0.  0.  1.  1.  0.\n",
      "  0.  1.  1.  0.  0.  1.  1.  0.  0.  1.  1.  0.  0.  1.  1.  0.  1.  0.\n",
      "  0.  0.  1.  1.  1.  1.  1.  1.  0.  1.  1.  1.  0.  0.  0.  1.  1.  0.\n",
      "  0.  0.  1.  1.  0.  0.  1.  0.  0.  0.  0.  1.  1.  0.  0.  1.  1.  0.\n",
      "  0.  1.  0.  1.  1.  1.  0.  0.  1.  0.  1.  1.  1.  0.  0.  0.  1.  1.\n",
      "  1.  1.  1.  0.  0.  0.  1.  0.  1.  0.  1.  0.  0.  1.  1.  1.  0.  1.\n",
      "  1.  1.  1.  0.  1.  1.  1.  0.  0.  1.  0.  0.  0.  0.  1.  1.  1.  1.\n",
      "  1.  1.  0.  1.  0.  0.  1.  0.  0.  1.  1.  1.  1.  1.  0.  0.  1.  0.\n",
      "  1.  0.  1.  0.  1.  0.  1.  0.  1.  1.  0.  1.  1.  1.  1.  0.  1.  1.\n",
      "  0.  1.  1.  1.  0.  1.  1.  1.  1.  0.  0.  1.  1.  1.  0.  0.  0.  1.\n",
      "  0.  1.  0.  0.  1.  0.  1.  0.  1.  0.  0.  1.  1.  1.  1.  0.  0.  0.\n",
      "  0.  0.  1.  0.  0.  1.  0.  1.  1.  0.  1.  0.  0.  1.  0.  1.  1.  0.\n",
      "  1.  0.  1.  0.  0.  0.  0.  0.  1.  0.  1.  0.  0.  1.  0.  1.  1.  1.\n",
      "  0.  0.  0.  1.  0.  0.  0.  0.  0.  1.  0.  1.  0.  1.  0.  1.  1.  1.\n",
      "  0.  1.  1.  0.  1.  1.  0.  1.  1.  1.  0.  1.  1.  1.  1.  1.  0.  0.\n",
      "  0.  1.  0.  0.  0.  0.  1.  0.  1.  1.  1.  1.  0.  1.  1.  1.  0.  1.\n",
      "  0.  1.  1.  0.  1.  1.  0.  0.  0.  0.  0.  0.  1.  0.  1.  0.  1.  1.\n",
      "  0.  1.  0.  0.  0.  1.  0.  0.  0.  1.  1.  0.  1.  1.  0.  1.  1.  0.\n",
      "  1.  0.  1.  1.  0.  1.  1.  1.  1.  1.  1.  0.  0.  1.  1.  1.  1.  1.\n",
      "  0.  0.  1.  1.  0.  1.  1.  0.  0.  0.  0.  0.  1.  0.  1.  1.  1.  1.\n",
      "  1.  1.  0.  1.  0.  1.  1.  0.  0.  0.  0.  0.  1.  0.  0.  0.  0.  1.\n",
      "  1.  0.  0.  1.  1.  1.  0.  0.  1.  1.  0.  1.  0.  0.  0.  1.  0.  1.\n",
      "  1.  0.  0.  0.  0.  0.  1.  0.  0.  1.  0.  0.  0.  1.  0.  1.  1.  0.\n",
      "  1.  1.  0.  0.  1.  1.  0.  1.  1.  1.  0.  1.  1.  1.  1.  0.  0.  1.\n",
      "  0.  0.  0.  1.  1.  1.  1.  0.  1.  0.  0.  0.  0.  0.  1.  1.  0.  0.\n",
      "  1.  1.  1.  0.  0.  0.  1.  0.  0.  0.  0.  0.  0.  0.  1.  0.  0.  1.\n",
      "  0.  0.  1.  1.  1.  1.  0.  0.  0.  0.  1.  0.  0.  1.  1.  1.  0.  1.\n",
      "  1.  0.  1.  0.  0.  1.  0.  0.  1.  0.  1.  0.  1.  1.  1.  1.  0.  0.\n",
      "  1.  0.  0.  0.  1.  0.  0.  1.  0.  1.  1.  1.  1.  1.  0.  0.  0.  0.\n",
      "  0.  1.  1.  1.  0.  1.  0.  1.  1.  0.  0.  0.  1.  0.  1.  0.  1.  0.\n",
      "  1.  1.  1.  1.  0.  1.  1.  0.  0.  0.  1.  0.  1.  0.  0.  0.  1.  0.\n",
      "  1.  1.  0.  0.  1.  0.  0.  1.  1.  0.  1.  0.  1.  1.  0.  0.  0.  1.\n",
      "  1.  1.  0.  1.  0.  0.  1.  0.  1.  1.  0.  1.  1.  0.  0.  0.  1.  1.\n",
      "  0.  0.  1.  0.  0.  1.  1.  0.  1.  0.  0.  1.  0.  0.  1.  1.  0.  0.\n",
      "  0.  1.  0.  0.  0.  0.  1.  0.  0.  1.  1.  1.  1.  1.  0.  0.  1.  0.\n",
      "  0.  0.  0.  1.  0.  0.  1.  1.  1.  0.  1.  0.  1.  1.  1.  1.  1.  1.\n",
      "  1.  1.  1.  0.  0.  1.  1.  1.  1.  1.  1.  0.  1.  1.  1.  1.  0.  1.\n",
      "  1.  1.  1.  1.  1.  1.  1.  0.  0.  1.  0.  0.  0.  0.  0.  0.  1.  0.\n",
      "  0.  1.  1.  0.  0.  0.  1.  0.  0.  1.  0.  1.  0.  0.  1.  0.  0.  1.\n",
      "  1.  0.  0.  0.  0.  1.  0.  1.  1.  0.  1.  0.  1.  0.  0.  0.  0.  0.\n",
      "  1.  1.  0.  0.  0.  1.  0.  1.  1.  0.  0.  1.  1.  0.  0.  1.  1.  0.\n",
      "  0.  0.  0.  0.  0.  0.  1.  1.  1.  1.  0.  0.  0.  1.  1.  0.  0.  1.\n",
      "  0.  0.  1.  1.  0.  1.  0.  0.  0.  1.  0.  1.  1.  1.  0.  1.  1.  1.\n",
      "  0.  0.  1.  0.  1.  1.  0.  0.  1.  0.  0.  1.  0.  1.  0.  1.  0.  0.\n",
      "  0.  0.  1.  0.  0.  0.  0.  0.  0.  1.  0.  1.  1.  0.  1.  1.  1.  0.\n",
      "  0.  1.  0.  0.  0.  1.  1.  1.  1.  1.  1.  1.  1.  1.  1.  0.  0.  1.\n",
      "  1.  0.  1.  1.  0.  1.  0.  1.  1.  0.  1.  1.  0.  1.  1.  1.  0.  0.\n",
      "  0.  0.  1.  0.  0.  0.  1.  0.  1.  0.  1.  0.  1.  0.  1.  0.  0.  1.\n",
      "  0.  1.  1.  1.  1.  1.  1.  1.  0.  1.  1.  0.  0.  0.  1.  0.  0.  1.\n",
      "  0.  1.  0.  0.  0.  0.  1.  1.  1.  1.  0.  0.  1.  0.  0.  0.  1.  1.\n",
      "  0.  0.  0.  0.  1.  1.  0.  0.  1.  1.  1.  0.  1.  1.  1.  1.  1.  1.\n",
      "  1.  0.  1.  0.  1.  0.  0.  1.  0.  1.  0.  1.  0.  0.  1.  0.  1.  1.\n",
      "  0.  1.  1.  0.  1.  1.  0.  0.  0.  0.  1.  0.  0.  0.  0.  1.  1.  1.\n",
      "  0.  1.  1.  0.  0.  1.  1.  0.  1.  0.  0.  0.  1.  0.  1.  0.  1.  1.\n",
      "  1.  1.  0.  1.  0.  1.  0.  0.  0.  1.]\n"
     ]
    }
   ],
   "source": [
    "# Restoring saved model from cell above\n",
    "dnn2 = DNN()\n",
    "dnn2.restore_saved_model(1, 200)\n",
    "results2 = dnn2.train(train_x, train_y, dev_x, dev_y, \n",
    "                      num_epochs = 250, print_summary = True, \n",
    "                      checkpoint_interval = 200)\n",
    "predictions2 = dnn2.predict(x_data)\n",
    "print(predictions2)"
   ]
  },
  {
   "cell_type": "code",
   "execution_count": 8,
   "metadata": {
    "scrolled": true
   },
   "outputs": [
    {
     "name": "stdout",
     "output_type": "stream",
     "text": [
      "Setting hyperparameters...\n",
      "Splitting data...\n",
      "train_x.shape: (700, 100)\n",
      "train_y.shape: (700, 2)\n",
      "dev_x.shape: (300, 100)\n",
      "dev_y.shape: (300, 2)\n",
      "Configuring graph...\n",
      "Model ID: 2\n",
      "Binary classification neural network with hyperparameters:\n",
      "layer_dims: [10, 2] learning_rate: 0.0010000000474974513, dropoutKeepProb: 0.800000011920929  num_epochs: 100\n",
      "minibatch_size: 64 momentum: 0.9700000286102295 maxnormclip: 3.0\n",
      "Saving metagraph to ./saved_model_2/dnn\n",
      "Training underway...\n",
      "Cost after epoch 0: 0.778388\n",
      "Cost after epoch 20: 0.744638\n",
      "Cost after epoch 40: 0.706091\n",
      "epoch to save 50\n",
      "Saving checkpoint at epoch: 50\n",
      "Cost after epoch 60: 0.636092\n",
      "Cost after epoch 80: 0.602703\n",
      "epoch to save 100\n",
      "Saving checkpoint at epoch: 100\n",
      "Done Training!\n"
     ]
    },
    {
     "data": {
      "image/png": "[encoded data removed]",
      "text/plain": [
       "<matplotlib.figure.Figure at 0x128870ba8>"
      ]
     },
     "metadata": {},
     "output_type": "display_data"
    },
    {
     "name": "stdout",
     "output_type": "stream",
     "text": [
      "train_accuracy_percent : 80.1428556442\n",
      "test_accuracy_percent : 51.3333320618\n",
      "precision_percent : 51.3333333333\n",
      "recall_percent : 51.3333333333\n",
      "f1score : 51.3333333333\n",
      "\n",
      "[ 0.  1.  0.  1.  0.  0.  1.  1.  1.  0.  1.  1.  1.  0.  1.  1.  1.  1.\n",
      "  0.  0.  1.  1.  1.  1.  1.  1.  0.  1.  0.  1.  1.  0.  1.  1.  0.  0.\n",
      "  0.  1.  1.  1.  0.  1.  0.  0.  1.  0.  1.  0.  0.  1.  1.  0.  1.  0.\n",
      "  0.  1.  0.  1.  1.  1.  1.  0.  0.  1.  0.  1.  0.  1.  1.  1.  1.  1.\n",
      "  0.  0.  1.  1.  1.  1.  1.  0.  0.  1.  0.  1.  1.  1.  0.  0.  0.  0.\n",
      "  0.  1.  1.  1.  1.  0.  0.  1.  1.  0.  0.  0.  1.  1.  1.  0.  0.  1.\n",
      "  1.  1.  1.  0.  1.  1.  0.  0.  0.  1.  1.  1.  1.  0.  1.  1.  1.  1.\n",
      "  1.  1.  1.  0.  0.  1.  1.  1.  0.  1.  0.  1.  1.  0.  1.  1.  1.  1.\n",
      "  0.  1.  0.  1.  0.  0.  1.  0.  0.  1.  0.  1.  0.  1.  1.  1.  1.  1.\n",
      "  0.  1.  1.  1.  1.  0.  1.  0.  0.  1.  0.  1.  1.  1.  0.  1.  1.  1.\n",
      "  0.  1.  1.  0.  1.  1.  0.  1.  1.  0.  0.  0.  1.  1.  1.  0.  0.  1.\n",
      "  0.  1.  0.  0.  1.  0.  0.  0.  1.  0.  0.  0.  1.  1.  1.  0.  0.  1.\n",
      "  1.  0.  1.  0.  0.  1.  0.  1.  1.  1.  1.  0.  0.  1.  0.  1.  1.  0.\n",
      "  0.  0.  1.  0.  0.  0.  0.  0.  1.  1.  1.  0.  1.  1.  0.  1.  1.  1.\n",
      "  0.  0.  1.  1.  0.  0.  0.  0.  0.  1.  0.  1.  0.  1.  1.  1.  0.  1.\n",
      "  0.  1.  1.  1.  1.  1.  0.  1.  1.  1.  0.  1.  0.  1.  1.  1.  0.  0.\n",
      "  0.  1.  0.  1.  0.  1.  1.  0.  0.  1.  1.  1.  0.  1.  1.  1.  1.  1.\n",
      "  0.  1.  1.  0.  1.  1.  0.  1.  0.  0.  1.  1.  1.  0.  0.  1.  0.  1.\n",
      "  1.  1.  1.  0.  1.  0.  0.  0.  0.  1.  1.  0.  0.  1.  0.  1.  1.  1.\n",
      "  1.  1.  1.  1.  0.  1.  1.  1.  1.  1.  1.  0.  0.  1.  1.  1.  1.  0.\n",
      "  0.  0.  1.  1.  1.  0.  1.  1.  0.  0.  0.  1.  1.  0.  1.  1.  1.  1.\n",
      "  1.  1.  1.  1.  0.  1.  1.  0.  0.  0.  0.  1.  0.  0.  0.  1.  0.  0.\n",
      "  1.  0.  1.  1.  1.  0.  0.  0.  1.  1.  0.  1.  1.  1.  1.  1.  0.  1.\n",
      "  0.  0.  0.  0.  0.  0.  0.  0.  0.  1.  0.  0.  0.  1.  0.  1.  0.  1.\n",
      "  0.  1.  0.  0.  1.  1.  1.  0.  1.  0.  1.  0.  1.  1.  1.  1.  0.  1.\n",
      "  0.  1.  0.  0.  1.  1.  0.  1.  0.  1.  0.  0.  0.  0.  1.  1.  0.  0.\n",
      "  1.  0.  1.  0.  1.  0.  1.  0.  0.  0.  1.  0.  1.  1.  1.  1.  0.  1.\n",
      "  0.  1.  1.  1.  0.  1.  0.  0.  0.  0.  0.  0.  0.  1.  0.  1.  1.  0.\n",
      "  1.  0.  1.  0.  0.  1.  0.  0.  0.  0.  1.  0.  0.  1.  0.  1.  0.  1.\n",
      "  1.  1.  0.  0.  1.  0.  0.  1.  0.  1.  1.  1.  1.  1.  0.  0.  0.  0.\n",
      "  1.  1.  1.  1.  0.  1.  0.  1.  1.  1.  0.  0.  1.  0.  1.  1.  1.  0.\n",
      "  0.  1.  1.  1.  0.  0.  1.  0.  0.  1.  1.  0.  1.  1.  1.  1.  1.  1.\n",
      "  0.  1.  1.  0.  1.  1.  0.  0.  0.  0.  1.  1.  0.  1.  0.  0.  0.  1.\n",
      "  1.  1.  1.  1.  1.  0.  1.  0.  1.  0.  0.  1.  1.  0.  1.  0.  1.  1.\n",
      "  0.  0.  1.  1.  0.  1.  0.  1.  1.  1.  0.  1.  1.  0.  1.  0.  1.  1.\n",
      "  0.  1.  0.  1.  1.  0.  1.  1.  1.  1.  0.  1.  1.  1.  0.  1.  1.  1.\n",
      "  0.  0.  0.  1.  0.  0.  0.  1.  1.  1.  1.  0.  0.  1.  0.  1.  1.  1.\n",
      "  1.  0.  1.  0.  0.  1.  0.  1.  1.  0.  1.  0.  1.  1.  1.  1.  0.  1.\n",
      "  1.  1.  1.  1.  1.  1.  0.  0.  0.  1.  0.  0.  1.  1.  0.  0.  1.  1.\n",
      "  1.  1.  1.  1.  0.  1.  0.  0.  0.  0.  0.  1.  0.  1.  0.  0.  0.  1.\n",
      "  1.  1.  1.  0.  0.  1.  1.  0.  1.  1.  1.  0.  1.  0.  0.  1.  1.  0.\n",
      "  1.  1.  0.  0.  0.  1.  1.  0.  1.  1.  1.  1.  1.  1.  0.  1.  1.  0.\n",
      "  0.  1.  1.  0.  0.  0.  1.  1.  0.  0.  1.  0.  0.  1.  1.  0.  0.  1.\n",
      "  0.  1.  1.  0.  1.  1.  0.  0.  1.  1.  0.  1.  1.  1.  0.  1.  1.  1.\n",
      "  0.  1.  1.  0.  1.  1.  1.  0.  0.  0.  0.  1.  0.  1.  0.  1.  1.  0.\n",
      "  0.  0.  1.  0.  0.  1.  0.  0.  1.  1.  1.  1.  0.  1.  1.  1.  1.  1.\n",
      "  1.  1.  1.  0.  1.  1.  1.  1.  1.  1.  1.  1.  1.  1.  1.  0.  0.  0.\n",
      "  1.  0.  1.  1.  0.  1.  0.  1.  1.  0.  1.  1.  0.  1.  1.  1.  0.  0.\n",
      "  1.  1.  1.  1.  1.  0.  1.  0.  1.  0.  1.  0.  1.  0.  1.  1.  1.  1.\n",
      "  1.  1.  0.  1.  1.  1.  0.  1.  0.  1.  1.  0.  0.  1.  1.  0.  0.  1.\n",
      "  1.  0.  1.  1.  0.  1.  0.  1.  1.  0.  0.  0.  0.  0.  0.  1.  1.  1.\n",
      "  1.  0.  0.  0.  1.  1.  0.  1.  1.  1.  1.  0.  0.  1.  1.  1.  1.  1.\n",
      "  1.  1.  1.  0.  0.  0.  0.  0.  0.  0.  0.  0.  0.  0.  1.  1.  0.  1.\n",
      "  1.  1.  1.  1.  1.  1.  0.  1.  0.  1.  1.  0.  0.  0.  0.  0.  0.  1.\n",
      "  1.  1.  1.  0.  0.  1.  1.  0.  1.  0.  0.  1.  1.  0.  1.  0.  0.  1.\n",
      "  1.  1.  0.  1.  0.  1.  0.  0.  1.  0.]\n"
     ]
    }
   ],
   "source": [
    "# Using convenience methods\n",
    "nn3 = DNN(identifier=2)\n",
    "nn3.set_hyperparams_split_data_configure_train(hyperparams, \n",
    "                                               df, \n",
    "                                               label, num_epochs = 100, \n",
    "                                               split_percent = 0.7, \n",
    "                                               print_summary = True, \n",
    "                                               checkpoint_interval = 50)\n",
    "predictions3 = nn3.predict(x_data)\n",
    "print(predictions3)"
   ]
  }
 ],
 "metadata": {
  "kernelspec": {
   "display_name": "Python 3",
   "language": "python",
   "name": "python3"
  },
  "language_info": {
   "codemirror_mode": {
    "name": "ipython",
    "version": 3
   },
   "file_extension": ".py",
   "mimetype": "text/x-python",
   "name": "python",
   "nbconvert_exporter": "python",
   "pygments_lexer": "ipython3",
   "version": "3.6.1"
  }
 },
 "nbformat": 4,
 "nbformat_minor": 2
}
