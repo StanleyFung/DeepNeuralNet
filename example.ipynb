{
 "cells": [
  {
   "cell_type": "code",
   "execution_count": 1,
   "metadata": {},
   "outputs": [],
   "source": [
    "import numpy as np\n",
    "import pandas as pd\n",
    "import DNN_model as dnn "
   ]
  },
  {
   "cell_type": "code",
   "execution_count": 2,
   "metadata": {},
   "outputs": [],
   "source": [
    "# Set up hyper parameters \n",
    "c = 1\n",
    "layer_dims = [10, c] \n",
    "learning_rate = 0.0005\n",
    "keep_prob = 1.0\n",
    "num_epochs = 300\n",
    "minibatch_size = 64\n",
    "print_summary = False\n",
    "isBinary = c <= 2 \n",
    "hyperparams = dnn.create_hyperparameter_bundle(layer_dims, learning_rate, num_epochs, keep_prob, minibatch_size)"
   ]
  },
  {
   "cell_type": "code",
   "execution_count": 3,
   "metadata": {},
   "outputs": [],
   "source": [
    "# Generate data\n",
    "m = 1000\n",
    "n_x = 10\n",
    "label = 'Survived'\n",
    "x_data = np.random.rand(m, n_x)\n",
    "y_test = None\n",
    "\n",
    "if isBinary:\n",
    "    y_test = np.random.randint(2, size=(1, m))[0]\n",
    "else:\n",
    "    y_test = np.random.randint(c, size=(1, m))[0]\n",
    "\n",
    "df = pd.DataFrame(x_data)\n",
    "df[label] = y_test"
   ]
  },
  {
   "cell_type": "code",
   "execution_count": 4,
   "metadata": {},
   "outputs": [
    {
     "name": "stdout",
     "output_type": "stream",
     "text": [
      "Binary classification neural network with hyperparameters:\n",
      "layer_dims: [10, 1] keep_prob: 1.0 learning_rate: 0.0005 num_epochs: 300 minibatch_size: 64\n",
      "Training underway...\n",
      "Done training!\n",
      "\n",
      "\n"
     ]
    }
   ],
   "source": [
    "# Example of using dnn.train_with_hyperparameter_bundle\n",
    "train_orig = df.sample(frac=0.70)\n",
    "test_orig = df.drop(train_orig.index) \n",
    "\n",
    "(x_train, y_train) = dnn.format_dataframe_for_training(train_orig, label, c)\n",
    "(x_test, y_test) = dnn.format_dataframe_for_training(test_orig, label, c)\n",
    "\n",
    "model = dnn.train_with_hyperparameter_bundle(x_train, y_train, x_test, y_test, hyperparams, print_summary=print_summary)\n",
    "parameters = model[dnn.KEY_PARAMETERS]\n",
    "prediction = dnn.predict(x_train, parameters, isBinary)"
   ]
  },
  {
   "cell_type": "code",
   "execution_count": 5,
   "metadata": {
    "scrolled": true
   },
   "outputs": [
    {
     "name": "stdout",
     "output_type": "stream",
     "text": [
      "Binary classification neural network with hyperparameters:\n",
      "layer_dims: [1] keep_prob: 1.0 learning_rate: 0.01 num_epochs: 500 minibatch_size: 64\n",
      "Training underway...\n",
      "Done training!\n",
      "\n",
      "\n",
      "Binary classification neural network with hyperparameters:\n",
      "layer_dims: [1] keep_prob: 1.0 learning_rate: 0.01 num_epochs: 500 minibatch_size: 64\n",
      "Training underway...\n",
      "Done training!\n",
      "\n",
      "\n",
      "Binary classification neural network with hyperparameters:\n",
      "layer_dims: [1] keep_prob: 1.0 learning_rate: 0.01 num_epochs: 500 minibatch_size: 64\n",
      "Training underway...\n",
      "Done training!\n",
      "\n",
      "\n",
      "Binary classification neural network with hyperparameters:\n",
      "layer_dims: [5, 1] keep_prob: 0.75 learning_rate: 0.001 num_epochs: 500 minibatch_size: 64\n",
      "Training underway...\n",
      "Done training!\n",
      "\n",
      "\n",
      "Binary classification neural network with hyperparameters:\n",
      "layer_dims: [5, 1] keep_prob: 0.75 learning_rate: 0.001 num_epochs: 500 minibatch_size: 64\n",
      "Training underway...\n",
      "Done training!\n",
      "\n",
      "\n",
      "Binary classification neural network with hyperparameters:\n",
      "layer_dims: [5, 1] keep_prob: 0.75 learning_rate: 0.001 num_epochs: 500 minibatch_size: 64\n",
      "Training underway...\n",
      "Done training!\n",
      "\n",
      "\n",
      "avg_accuracy1 0.519990046819\n",
      "avg_accuracy2 0.478004952272\n"
     ]
    }
   ],
   "source": [
    "# Example of using kfold to determine best hyper parameters\n",
    "hyperparams1 = dnn.create_hyperparameter_bundle(layer_dims = [c], learning_rate = 0.01, num_epochs = 500, keep_prob = 1.0)\n",
    "hyperparams2 = dnn.create_hyperparameter_bundle(layer_dims = [5,c], learning_rate = 0.001, num_epochs = 500, keep_prob = 0.75)\n",
    "\n",
    "result1 =  dnn.kfold(df, label, hyperparams1, k = 3.0, print_summary = False)\n",
    "avg_accuracy1 = result1[dnn.KEY_AVERAGE_ACCURACY]\n",
    "result2 = dnn.kfold(df, label, hyperparams2, k = 3.0, print_summary = False)\n",
    "avg_accuracy2 = result2[dnn.KEY_AVERAGE_ACCURACY]\n",
    "\n",
    "print \"avg_accuracy1 \" + str(avg_accuracy1)\n",
    "print \"avg_accuracy2 \" + str(avg_accuracy2)"
   ]
  }
 ],
 "metadata": {
  "kernelspec": {
   "display_name": "Python 2",
   "language": "python",
   "name": "python2"
  },
  "language_info": {
   "codemirror_mode": {
    "name": "ipython",
    "version": 2
   },
   "file_extension": ".py",
   "mimetype": "text/x-python",
   "name": "python",
   "nbconvert_exporter": "python",
   "pygments_lexer": "ipython2",
   "version": "2.7.13"
  }
 },
 "nbformat": 4,
 "nbformat_minor": 2
}
