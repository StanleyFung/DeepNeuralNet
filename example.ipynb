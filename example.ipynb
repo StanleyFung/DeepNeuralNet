{
 "cells": [
  {
   "cell_type": "code",
   "execution_count": 1,
   "metadata": {},
   "outputs": [],
   "source": [
    "import numpy as np\n",
    "import DNN_model as dnn "
   ]
  },
  {
   "cell_type": "code",
   "execution_count": 7,
   "metadata": {},
   "outputs": [],
   "source": [
    "m_train = 1000\n",
    "m_test = 200\n",
    "n_x = 1000\n",
    "x_train = np.random.rand(n_x, m_train)\n",
    "x_test = np.random.rand(n_x, m_test)\n",
    "\n",
    "# layer_dims is the number of nodes in each layer, NOT including the input layers\n",
    "# layers_dims = [25, 7, 5, 1] \n",
    "# this would be a DNN of n_X -> 25 -> 7 -> 5 -> 1\n",
    "# if number of nodes in last layer is > 1, we expect a multi class output\n",
    "layer_dims = [10, 10, 10, 5] \n",
    "isBinary = layer_dims[-1] <= 2 \n",
    "\n",
    "if isBinary:\n",
    "    assert(layer_dims[-1] == 1)\n",
    "    y_train = np.random.randint(2, size=(1, m_train))\n",
    "    y_test = np.random.randint(2, size=(1, m_test))\n",
    "else:\n",
    "    # Multi class\n",
    "    assert(layer_dims[-1] > 1)\n",
    "    y_train = np.random.randint(layer_dims[-1], size=(1, m_train))[0]\n",
    "    y_train = dnn.one_hot_matrix(y_train, layer_dims[-1], axis = 0)\n",
    "    \n",
    "    y_test = np.random.randint(layer_dims[-1], size=(1, m_test))[0]\n",
    "    y_test = dnn.one_hot_matrix(y_test, layer_dims[-1], axis = 0)"
   ]
  },
  {
   "cell_type": "code",
   "execution_count": 9,
   "metadata": {},
   "outputs": [
    {
     "name": "stdout",
     "output_type": "stream",
     "text": [
      "Cost after epoch 0: 1.830603\n"
     ]
    },
    {
     "data": {
      "image/png": "[encoded data removed]",
      "text/plain": [
       "<matplotlib.figure.Figure at 0x102f56b90>"
      ]
     },
     "metadata": {},
     "output_type": "display_data"
    },
    {
     "name": "stdout",
     "output_type": "stream",
     "text": [
      "Parameters have been trained!\n",
      "('Train Accuracy:', 0.22400001)\n",
      "('Test Accuracy:', 0.17)\n",
      "[ 2.  2.  0.  2.  2.  2.  2.  2.  2.  2.  2.  2.  2.  0.  2.  2.  2.  2.\n",
      "  2.  2.  2.  2.  2.  2.  2.  2.  2.  2.  2.  2.  2.  2.  2.  2.  2.  0.\n",
      "  2.  2.  2.  2.  2.  2.  2.  0.  0.  2.  2.  2.  2.  2.  0.  2.  2.  2.\n",
      "  2.  2.  2.  2.  2.  2.  2.  2.  2.  2.  2.  2.  2.  2.  2.  2.  2.  2.\n",
      "  2.  2.  2.  0.  2.  2.  2.  0.  2.  2.  2.  2.  2.  2.  2.  2.  2.  2.\n",
      "  2.  2.  2.  2.  2.  2.  2.  2.  2.  2.  0.  2.  2.  2.  0.  2.  2.  2.\n",
      "  2.  2.  2.  0.  0.  2.  2.  2.  2.  2.  2.  2.  2.  2.  2.  0.  2.  2.\n",
      "  2.  2.  2.  2.  2.  2.  2.  2.  0.  2.  2.  2.  0.  2.  2.  2.  2.  0.\n",
      "  2.  2.  2.  2.  2.  2.  2.  2.  2.  2.  2.  2.  2.  2.  0.  2.  2.  2.\n",
      "  2.  2.  0.  2.  2.  2.  0.  0.  2.  2.  2.  2.  2.  2.  2.  2.  2.  2.\n",
      "  2.  2.  2.  2.  2.  2.  2.  2.  2.  2.  2.  2.  2.  0.  0.  0.  2.  2.\n",
      "  2.  0.  2.  2.  2.  2.  2.  2.  0.  0.  2.  2.  2.  2.  0.  2.  2.  2.\n",
      "  2.  2.  2.  2.  2.  2.  0.  2.  2.  2.  2.  2.  2.  2.  2.  2.  2.  0.\n",
      "  2.  2.  2.  2.  2.  2.  2.  2.  2.  2.  2.  2.  2.  2.  2.  2.  2.  2.\n",
      "  2.  2.  0.  2.  2.  2.  2.  2.  2.  2.  2.  2.  2.  0.  2.  2.  2.  2.\n",
      "  2.  2.  0.  0.  2.  2.  2.  2.  2.  2.  2.  2.  2.  2.  2.  2.  2.  2.\n",
      "  2.  2.  2.  2.  2.  2.  2.  2.  2.  2.  2.  2.  2.  2.  2.  2.  2.  2.\n",
      "  0.  0.  2.  2.  2.  2.  2.  2.  2.  2.  2.  2.  0.  2.  2.  2.  2.  2.\n",
      "  0.  2.  2.  2.  2.  2.  2.  0.  2.  2.  2.  2.  2.  2.  2.  2.  2.  2.\n",
      "  2.  2.  2.  2.  2.  2.  2.  2.  2.  2.  2.  0.  2.  2.  2.  2.  2.  2.\n",
      "  0.  2.  2.  0.  2.  2.  2.  2.  0.  2.  0.  2.  2.  2.  2.  2.  2.  0.\n",
      "  0.  2.  2.  2.  2.  2.  2.  0.  2.  2.  2.  2.  2.  0.  2.  0.  0.  2.\n",
      "  0.  2.  2.  0.  2.  0.  2.  2.  2.  2.  2.  2.  0.  0.  2.  2.  2.  2.\n",
      "  2.  0.  2.  2.  2.  0.  2.  2.  2.  2.  2.  2.  2.  2.  2.  2.  2.  2.\n",
      "  2.  2.  2.  2.  2.  2.  2.  0.  2.  2.  2.  2.  2.  0.  2.  2.  2.  2.\n",
      "  2.  0.  0.  2.  2.  2.  2.  2.  2.  2.  2.  2.  2.  2.  2.  0.  2.  2.\n",
      "  2.  2.  2.  2.  2.  2.  2.  2.  0.  2.  2.  2.  0.  2.  2.  2.  2.  2.\n",
      "  2.  2.  2.  2.  2.  2.  2.  2.  2.  2.  2.  0.  2.  2.  0.  2.  0.  0.\n",
      "  2.  2.  2.  0.  0.  2.  2.  2.  2.  2.  2.  2.  2.  2.  2.  2.  2.  2.\n",
      "  2.  0.  2.  0.  2.  2.  2.  2.  2.  2.  2.  0.  2.  2.  2.  2.  2.  0.\n",
      "  2.  2.  2.  2.  2.  2.  2.  2.  2.  2.  2.  2.  2.  2.  2.  2.  2.  2.\n",
      "  2.  2.  0.  2.  0.  2.  2.  2.  2.  0.  2.  2.  2.  2.  2.  0.  2.  2.\n",
      "  2.  2.  2.  2.  2.  2.  2.  2.  0.  2.  2.  2.  2.  2.  2.  2.  0.  2.\n",
      "  2.  2.  2.  2.  2.  2.  2.  2.  2.  2.  2.  2.  2.  2.  2.  2.  2.  2.\n",
      "  2.  2.  2.  2.  2.  2.  2.  2.  0.  2.  2.  2.  2.  2.  2.  2.  2.  0.\n",
      "  2.  2.  2.  2.  2.  0.  2.  2.  2.  2.  0.  2.  2.  2.  2.  2.  2.  0.\n",
      "  2.  2.  2.  2.  2.  2.  2.  2.  2.  0.  2.  0.  2.  2.  2.  0.  2.  2.\n",
      "  2.  2.  0.  2.  2.  2.  2.  2.  0.  2.  0.  2.  2.  2.  2.  2.  2.  0.\n",
      "  0.  2.  2.  2.  2.  2.  2.  0.  2.  2.  2.  2.  2.  0.  2.  2.  0.  2.\n",
      "  2.  2.  2.  0.  2.  2.  2.  2.  2.  2.  2.  2.  0.  2.  2.  2.  2.  2.\n",
      "  2.  2.  0.  0.  2.  2.  2.  0.  2.  2.  2.  0.  2.  0.  0.  0.  0.  2.\n",
      "  2.  2.  2.  2.  2.  2.  0.  2.  2.  2.  2.  2.  2.  2.  2.  2.  2.  2.\n",
      "  2.  2.  0.  2.  2.  2.  2.  2.  2.  2.  2.  2.  2.  0.  2.  2.  2.  2.\n",
      "  2.  2.  2.  2.  2.  2.  2.  2.  2.  2.  2.  2.  2.  2.  2.  2.  2.  2.\n",
      "  2.  2.  2.  2.  2.  2.  2.  2.  2.  2.  2.  2.  2.  2.  2.  2.  2.  2.\n",
      "  2.  0.  2.  2.  2.  2.  2.  2.  2.  2.  2.  2.  2.  0.  2.  2.  2.  2.\n",
      "  2.  2.  2.  0.  0.  2.  0.  2.  2.  2.  2.  2.  2.  2.  2.  2.  2.  2.\n",
      "  2.  2.  2.  0.  2.  0.  2.  0.  2.  0.  2.  2.  2.  2.  2.  2.  2.  0.\n",
      "  2.  2.  2.  2.  2.  0.  2.  2.  0.  2.  2.  2.  2.  2.  2.  2.  2.  2.\n",
      "  2.  0.  2.  0.  2.  2.  2.  2.  2.  2.  2.  2.  2.  0.  2.  0.  2.  2.\n",
      "  2.  2.  0.  2.  2.  2.  2.  2.  2.  2.  2.  2.  2.  2.  2.  0.  2.  2.\n",
      "  2.  2.  0.  2.  2.  2.  2.  2.  0.  2.  2.  0.  2.  2.  0.  2.  2.  2.\n",
      "  2.  2.  2.  2.  2.  2.  2.  2.  0.  2.  2.  2.  2.  0.  0.  2.  2.  2.\n",
      "  2.  2.  2.  2.  2.  2.  2.  2.  0.  2.  2.  2.  2.  2.  2.  2.  2.  2.\n",
      "  0.  2.  2.  2.  2.  2.  2.  2.  2.  2.  2.  2.  2.  2.  2.  2.  2.  2.\n",
      "  2.  2.  2.  2.  2.  2.  2.  2.  0.  2.]\n"
     ]
    }
   ],
   "source": [
    "result = dnn.train(x_train, y_train, x_test, y_test, layer_dims, keep_prob=0.5, num_epochs=100)\n",
    "prediction = result[0]\n",
    "print prediction"
   ]
  },
  {
   "cell_type": "code",
   "execution_count": null,
   "metadata": {},
   "outputs": [],
   "source": []
  }
 ],
 "metadata": {
  "kernelspec": {
   "display_name": "Python 2",
   "language": "python",
   "name": "python2"
  },
  "language_info": {
   "codemirror_mode": {
    "name": "ipython",
    "version": 2
   },
   "file_extension": ".py",
   "mimetype": "text/x-python",
   "name": "python",
   "nbconvert_exporter": "python",
   "pygments_lexer": "ipython2",
   "version": "2.7.13"
  }
 },
 "nbformat": 4,
 "nbformat_minor": 2
}
